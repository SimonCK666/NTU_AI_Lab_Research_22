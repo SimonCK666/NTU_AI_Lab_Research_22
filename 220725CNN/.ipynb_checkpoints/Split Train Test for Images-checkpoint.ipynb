{
 "cells": [
  {
   "cell_type": "code",
   "execution_count": 9,
   "id": "367bdd59",
   "metadata": {},
   "outputs": [
    {
     "name": "stderr",
     "output_type": "stream",
     "text": [
      "Copying files: 1578 files [02:03, 12.79 files/s]\n"
     ]
    }
   ],
   "source": [
    "import splitfolders\n",
    "input_folder = \"E:/NTUAILabData/BreastUltrasound/Dataset_BUSI_with_GT\"\n",
    "output = \"E:/NTUAILab/Data/BreastUltrasound/Dataset_BUSI_with_GT/Breast Illness (train test split)\" #where you want the split datasets saved. one will be created if it does not exist or none is set\n",
    "\n",
    "splitfolders.ratio(input_folder, output=output, seed=42, ratio=(.7, .1, .2)) # ratio of split are in order of train/val/test. You can change to whatever you want. For train/val sets only, you could do .75, .25 for example."
   ]
  },
  {
   "cell_type": "code",
   "execution_count": 1,
   "id": "8d1158ca",
   "metadata": {},
   "outputs": [
    {
     "name": "stdout",
     "output_type": "stream",
     "text": [
      "Looking in indexes: https://mirrors.aliyun.com/pypi/simple/\n",
      "Collecting split-folders\n",
      "  Downloading https://mirrors.aliyun.com/pypi/packages/b6/d5/307d63c03356bad6e141d8718d3f4116f51bd9c4b09e2614ffcee1f3c6fd/split_folders-0.5.1-py3-none-any.whl (8.4 kB)\n",
      "Installing collected packages: split-folders\n",
      "Successfully installed split-folders-0.5.1\n"
     ]
    }
   ],
   "source": [
    "!pip install split-folders"
   ]
  },
  {
   "cell_type": "code",
   "execution_count": null,
   "id": "62875e38",
   "metadata": {},
   "outputs": [],
   "source": []
  }
 ],
 "metadata": {
  "kernelspec": {
   "display_name": "Python 3 (ipykernel)",
   "language": "python",
   "name": "python3"
  },
  "language_info": {
   "codemirror_mode": {
    "name": "ipython",
    "version": 3
   },
   "file_extension": ".py",
   "mimetype": "text/x-python",
   "name": "python",
   "nbconvert_exporter": "python",
   "pygments_lexer": "ipython3",
   "version": "3.7.13"
  }
 },
 "nbformat": 4,
 "nbformat_minor": 5
}
